{
 "cells": [
  {
   "cell_type": "code",
   "execution_count": null,
   "id": "5081661c-4230-479f-ac08-446d8dcc4a8a",
   "metadata": {},
   "outputs": [],
   "source": [
    "pip install langchain-groq"
   ]
  },
  {
   "cell_type": "code",
   "execution_count": null,
   "id": "efd39ea5-6a0b-4fd8-80c9-f6f439e73d2e",
   "metadata": {},
   "outputs": [],
   "source": [
    "from langchain_groq import ChatGroq"
   ]
  },
  {
   "cell_type": "code",
   "execution_count": null,
   "id": "d6aa0a7f",
   "metadata": {},
   "outputs": [],
   "source": []
  },
  {
   "cell_type": "code",
   "execution_count": 3,
   "id": "246493e2-a8b4-4d00-93fa-848f6fd62063",
   "metadata": {},
   "outputs": [],
   "source": [
    "llm = ChatGroq(\n",
    "    model = \"mixtral-8x7b-32768\",\n",
    "    temperature =0, \n",
    "    groq_api_key = \"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\"\n",
    ");"
   ]
  },
  {
   "cell_type": "code",
   "execution_count": null,
   "id": "da6bc803-6467-40fe-b979-3ea6f203bdea",
   "metadata": {},
   "outputs": [],
   "source": [
    "response = llm.invoke(\"who is the prime minister of india\")\n",
    "response"
   ]
  },
  {
   "cell_type": "code",
   "execution_count": null,
   "id": "6d5623b9-7ca3-476c-afb7-4902e42e0806",
   "metadata": {},
   "outputs": [],
   "source": [
    "value = input(\"what is your question\")\n",
    "response = llm.invoke(value)\n",
    "print(response.content);"
   ]
  }
 ],
 "metadata": {
  "kernelspec": {
   "display_name": "Python 3 (ipykernel)",
   "language": "python",
   "name": "python3"
  },
  "language_info": {
   "codemirror_mode": {
    "name": "ipython",
    "version": 3
   },
   "file_extension": ".py",
   "mimetype": "text/x-python",
   "name": "python",
   "nbconvert_exporter": "python",
   "pygments_lexer": "ipython3",
   "version": "3.9.13"
  }
 },
 "nbformat": 4,
 "nbformat_minor": 5
}

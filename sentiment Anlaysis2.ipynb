{
 "cells": [
  {
   "cell_type": "code",
   "execution_count": null,
   "id": "bb30c645-17db-4f31-957a-04d8eca269c4",
   "metadata": {},
   "outputs": [
    {
     "name": "stdout",
     "output_type": "stream",
     "text": [
      "Enter a sentence to analyze the sentiment and receive suggestions (type 'exit' to quit):\n"
     ]
    },
    {
     "name": "stdin",
     "output_type": "stream",
     "text": [
      "Your input:  hello\n"
     ]
    },
    {
     "name": "stdout",
     "output_type": "stream",
     "text": [
      "Result:\n",
      "1. The sentiment of the text: 'Positive'\n",
      "2. Since the sentiment is already positive, here are some suggestions to maintain or enhance it:\n",
      "- Use exclamation marks to express excitement or enthusiasm.\n",
      "- Incorporate positive adjectives to describe people, places, or things.\n",
      "- Share a success story or an achievement to keep the positive vibe going.\n",
      "- Express gratitude or appreciation towards someone or something.\n",
      "- Use humor or playful language to create a lighter atmosphere.\n",
      "\n"
     ]
    },
    {
     "name": "stdin",
     "output_type": "stream",
     "text": [
      "Your input:  hii re otalali hay re kajra jaan mare tpjre k otalaliy agori\n"
     ]
    },
    {
     "name": "stdout",
     "output_type": "stream",
     "text": [
      "Result:\n",
      "1. The sentiment of the text: 'Neutral'\n",
      "2. A helpful suggestion or advice based on the sentiment:\n",
      "Since the sentiment is neutral, I would suggest adding more emotion or perspective to the text. Here's a revised version of the text:\n",
      "\"Hello, I noticed that you've been feeling down lately, ever since your dear friend Kajra passed away. I'm here for you, and I want to support you during this difficult time. Let's talk about your feelings and memories of Kajra. Together, we can find ways to honor and remember him.\"\n",
      "\n"
     ]
    }
   ],
   "source": [
    "from langchain_groq import ChatGroq\n",
    "\n",
    "\n",
    "llm = ChatGroq(\n",
    "    model=\"mixtral-8x7b-32768\",\n",
    "    temperature=0.2,\n",
    "    groq_api_key=\"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\" \n",
    ")\n",
    "\n",
    "\n",
    "def analyze_sentiment_and_suggest(text):\n",
    "    prompt = f\"\"\"\n",
    "    You are an assistant that \n",
    "    analyzes the sentiment of a \n",
    "    given text and provides useful suggestions\n",
    "    based on the tone of the text:\n",
    "    ---\n",
    "    {text}\n",
    "    ---\n",
    "    Based on the sentiment of the text,\n",
    "    please provide one of the following:\n",
    "    1. The sentiment of the text: 'Positive', 'Negative', or 'Neutral'.\n",
    "    2. A helpful suggestion or advice based on the sentiment:\n",
    "        - If the sentiment is positive, suggest ways to maintain or enhance it.\n",
    "        - If the sentiment is negative, suggest ways to improve or overcome the negativity.\n",
    "        - If the sentiment is neutral, suggest ways to add more emotion or perspective to the text.\n",
    "    \"\"\"\n",
    "    \n",
    "    \n",
    "    response = llm.invoke(prompt, max_tokens=150)\n",
    "    return response.content.strip()\n",
    "\n",
    "\n",
    "def main():\n",
    "    print(\"Enter a sentence to analyze the sentiment and receive suggestions (type 'exit' to quit):\")\n",
    "    while True:\n",
    "        user_input = input(\"Your input: \")\n",
    "        \n",
    "        \n",
    "        if user_input.lower() == 'exit':\n",
    "            print(\"Exiting the sentiment analysis tool.\")\n",
    "            break\n",
    "        \n",
    "       \n",
    "        result = analyze_sentiment_and_suggest(user_input)\n",
    "        \n",
    "        \n",
    "        print(f\"Result:\\n{result}\\n\")\n",
    "\n",
    "\n",
    "\n",
    "main()"
   ]
  }
 ],
 "metadata": {
  "kernelspec": {
   "display_name": "Python 3 (ipykernel)",
   "language": "python",
   "name": "python3"
  },
  "language_info": {
   "codemirror_mode": {
    "name": "ipython",
    "version": 3
   },
   "file_extension": ".py",
   "mimetype": "text/x-python",
   "name": "python",
   "nbconvert_exporter": "python",
   "pygments_lexer": "ipython3",
   "version": "3.9.13"
  }
 },
 "nbformat": 4,
 "nbformat_minor": 5
}
